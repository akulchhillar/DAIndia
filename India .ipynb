{
 "cells": [
  {
   "cell_type": "code",
   "execution_count": 2,
   "metadata": {},
   "outputs": [],
   "source": [
    "import pandas as pd\n",
    "import numpy as np\n",
    "import quandl\n",
    "import matplotlib.pyplot as plt\n",
    "import seaborn as sns\n",
    "%matplotlib inline\n"
   ]
  },
  {
   "cell_type": "code",
   "execution_count": 128,
   "metadata": {},
   "outputs": [],
   "source": [
    "pd.set_option('display.precision',26) #remove exponetial from values"
   ]
  },
  {
   "cell_type": "code",
   "execution_count": 25,
   "metadata": {},
   "outputs": [],
   "source": [
    "df_gdp = pd.read_excel(\"C:\\Users\\Akul Chhillar\\Downloads\\Data\\GDP.xlsx\")"
   ]
  },
  {
   "cell_type": "code",
   "execution_count": 48,
   "metadata": {},
   "outputs": [],
   "source": [
    "df_fdi = pd.read_clipboard()"
   ]
  },
  {
   "cell_type": "code",
   "execution_count": 171,
   "metadata": {},
   "outputs": [],
   "source": [
    "df_gni = pd.read_csv(\"C:\\Users\\Akul Chhillar\\Downloads\\Data\\GNI PPP.csv\")"
   ]
  },
  {
   "cell_type": "code",
   "execution_count": 91,
   "metadata": {},
   "outputs": [],
   "source": [
    "df_infant_mortality_rate = pd.read_csv(\"C:\\Users\\Akul Chhillar\\Downloads\\Data\\Infant Mortality rate.csv\")"
   ]
  },
  {
   "cell_type": "code",
   "execution_count": 69,
   "metadata": {},
   "outputs": [],
   "source": [
    "df_life_expectancy_rate = pd.read_csv(\"C:\\Users\\Akul Chhillar\\Downloads\\Data\\Life Expectancy.csv\")"
   ]
  },
  {
   "cell_type": "code",
   "execution_count": 78,
   "metadata": {},
   "outputs": [],
   "source": [
    "df_gdp.set_index(\"Year\",inplace=True)"
   ]
  },
  {
   "cell_type": "code",
   "execution_count": 82,
   "metadata": {},
   "outputs": [],
   "source": [
    "df_fdi.set_index(\"Year\",inplace=True)"
   ]
  },
  {
   "cell_type": "code",
   "execution_count": 89,
   "metadata": {},
   "outputs": [],
   "source": [
    "df_life_expectancy_rate.set_index(\"Year\",inplace=True)"
   ]
  },
  {
   "cell_type": "code",
   "execution_count": 93,
   "metadata": {},
   "outputs": [],
   "source": [
    "df_infant_mortality_rate.set_index(\"Year(s)\",inplace=True)"
   ]
  },
  {
   "cell_type": "code",
   "execution_count": 107,
   "metadata": {},
   "outputs": [],
   "source": [
    "df_gdp.drop([\"Country or Area\",\"Value Footnotes\"],axis=1,inplace=True)"
   ]
  },
  {
   "cell_type": "code",
   "execution_count": 142,
   "metadata": {},
   "outputs": [],
   "source": [
    "df_fdi.rename(columns={\"Value\":\"FDI\"},inplace=True)"
   ]
  },
  {
   "cell_type": "code",
   "execution_count": 145,
   "metadata": {},
   "outputs": [],
   "source": [
    "df_gdp = df_gdp.join(df_fdi)"
   ]
  },
  {
   "cell_type": "code",
   "execution_count": 173,
   "metadata": {},
   "outputs": [],
   "source": [
    "df_gni.set_index(\"Year\",inplace=True)"
   ]
  },
  {
   "cell_type": "code",
   "execution_count": 177,
   "metadata": {},
   "outputs": [],
   "source": [
    "df_gni.drop([\"Country or Area\",\"Value Footnotes\"],axis=1,inplace=True)"
   ]
  },
  {
   "cell_type": "code",
   "execution_count": 193,
   "metadata": {},
   "outputs": [],
   "source": [
    "df_gni.rename(columns={\"Value\":\"GNI\"},inplace=True)"
   ]
  },
  {
   "cell_type": "code",
   "execution_count": 185,
   "metadata": {},
   "outputs": [],
   "source": [
    "df_gdp = df_gdp.join(df_gni)"
   ]
  },
  {
   "cell_type": "code",
   "execution_count": 191,
   "metadata": {},
   "outputs": [],
   "source": [
    "df_life_expectancy_rate.drop([\"Country or Area\",\"Value Footnotes\"],axis=1,inplace=True)"
   ]
  },
  {
   "cell_type": "code",
   "execution_count": 194,
   "metadata": {},
   "outputs": [],
   "source": [
    "df_life_expectancy_rate.rename(columns={\"Value\":\"LER\"},inplace=True)"
   ]
  },
  {
   "cell_type": "code",
   "execution_count": 197,
   "metadata": {},
   "outputs": [],
   "source": [
    "df_gdp = df_gdp.join(df_life_expectancy_rate)"
   ]
  },
  {
   "cell_type": "code",
   "execution_count": 240,
   "metadata": {},
   "outputs": [
    {
     "data": {
      "text/html": [
       "<div>\n",
       "<style scoped>\n",
       "    .dataframe tbody tr th:only-of-type {\n",
       "        vertical-align: middle;\n",
       "    }\n",
       "\n",
       "    .dataframe tbody tr th {\n",
       "        vertical-align: top;\n",
       "    }\n",
       "\n",
       "    .dataframe thead th {\n",
       "        text-align: right;\n",
       "    }\n",
       "</style>\n",
       "<table border=\"1\" class=\"dataframe\">\n",
       "  <thead>\n",
       "    <tr style=\"text-align: right;\">\n",
       "      <th></th>\n",
       "      <th>GDP</th>\n",
       "      <th>FDI</th>\n",
       "      <th></th>\n",
       "      <th>GNI</th>\n",
       "      <th>LER</th>\n",
       "    </tr>\n",
       "    <tr>\n",
       "      <th>Year</th>\n",
       "      <th></th>\n",
       "      <th></th>\n",
       "      <th></th>\n",
       "      <th></th>\n",
       "      <th></th>\n",
       "    </tr>\n",
       "  </thead>\n",
       "  <tbody>\n",
       "    <tr>\n",
       "      <th>2015</th>\n",
       "      <td>2073542978208.77001953125</td>\n",
       "      <td>44,208,019,071.8</td>\n",
       "      <td>1</td>\n",
       "      <td>7889976979107.7597656250</td>\n",
       "      <td>NaN</td>\n",
       "    </tr>\n",
       "    <tr>\n",
       "      <th>2014</th>\n",
       "      <td>2042438591343.97998046875</td>\n",
       "      <td>33,871,408,468.4</td>\n",
       "      <td></td>\n",
       "      <td>7260400308966.1796875000</td>\n",
       "      <td>68.01380487804880203839275055</td>\n",
       "    </tr>\n",
       "    <tr>\n",
       "      <th>2013</th>\n",
       "      <td>1863208343557.81005859375</td>\n",
       "      <td>28,153,031,270.3</td>\n",
       "      <td></td>\n",
       "      <td>6656537392735.9404296875</td>\n",
       "      <td>67.66041463414630641182156978</td>\n",
       "    </tr>\n",
       "    <tr>\n",
       "      <th>2012</th>\n",
       "      <td>1824960308640.70996093750</td>\n",
       "      <td>23,995,685,014.2</td>\n",
       "      <td></td>\n",
       "      <td>6146216778342.1796875000</td>\n",
       "      <td>67.28987804878049416856811149</td>\n",
       "    </tr>\n",
       "    <tr>\n",
       "      <th>2011</th>\n",
       "      <td>1815865716201.58007812500</td>\n",
       "      <td>36,498,654,597.9</td>\n",
       "      <td></td>\n",
       "      <td>5730998801229.7099609375</td>\n",
       "      <td>66.90417073170729622688668314</td>\n",
       "    </tr>\n",
       "  </tbody>\n",
       "</table>\n",
       "</div>"
      ],
      "text/plain": [
       "                            GDP               FDI     \\\n",
       "Year                                                   \n",
       "2015  2073542978208.77001953125  44,208,019,071.8  1   \n",
       "2014  2042438591343.97998046875  33,871,408,468.4      \n",
       "2013  1863208343557.81005859375  28,153,031,270.3      \n",
       "2012  1824960308640.70996093750  23,995,685,014.2      \n",
       "2011  1815865716201.58007812500  36,498,654,597.9      \n",
       "\n",
       "                           GNI                            LER  \n",
       "Year                                                           \n",
       "2015  7889976979107.7597656250                            NaN  \n",
       "2014  7260400308966.1796875000  68.01380487804880203839275055  \n",
       "2013  6656537392735.9404296875  67.66041463414630641182156978  \n",
       "2012  6146216778342.1796875000  67.28987804878049416856811149  \n",
       "2011  5730998801229.7099609375  66.90417073170729622688668314  "
      ]
     },
     "execution_count": 240,
     "metadata": {},
     "output_type": "execute_result"
    }
   ],
   "source": [
    "df_gdp.rename(columns={\"Value\":\"GDP\"},inplace=True)\n",
    "df_gdp.head()"
   ]
  },
  {
   "cell_type": "code",
   "execution_count": 283,
   "metadata": {},
   "outputs": [],
   "source": [
    "#sns.lmplot(\"GDP\",\"FDI\",data=df_gdp,fit_reg=True,ci=95)\n",
    "#sns.lmplot(\"GDP\",\"LER\",data=df_gdp,fit_reg=True,ci=95)\n",
    "#sns.lmplot(\"GDP\",\"GNI\",data=df_gdp,fit_reg=True,ci=95)\n"
   ]
  },
  {
   "cell_type": "code",
   "execution_count": 284,
   "metadata": {},
   "outputs": [
    {
     "data": {
      "text/plain": [
       "<matplotlib.axes._subplots.AxesSubplot at 0x17d900d0>"
      ]
     },
     "execution_count": 284,
     "metadata": {},
     "output_type": "execute_result"
    },
    {
     "data": {
      "image/png": "[encoded data removed]",
      "text/plain": [
       "<matplotlib.figure.Figure at 0x17abccd0>"
      ]
     },
     "metadata": {},
     "output_type": "display_data"
    }
   ],
   "source": [
    "corr = df_gdp.corr()\n",
    "sns.heatmap(corr,cbar=True,annot=True)"
   ]
  }
 ],
 "metadata": {
  "kernelspec": {
   "display_name": "Python 2",
   "language": "python",
   "name": "python2"
  },
  "language_info": {
   "codemirror_mode": {
    "name": "ipython",
    "version": 2
   },
   "file_extension": ".py",
   "mimetype": "text/x-python",
   "name": "python",
   "nbconvert_exporter": "python",
   "pygments_lexer": "ipython2",
   "version": "2.7.14"
  }
 },
 "nbformat": 4,
 "nbformat_minor": 2
}
